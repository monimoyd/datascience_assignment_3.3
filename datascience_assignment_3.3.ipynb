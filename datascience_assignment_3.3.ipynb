{
 "cells": [
  {
   "cell_type": "markdown",
   "metadata": {},
   "source": [
    "## Implement a function longestWord which take input as list of words and return the longest word\n",
    "\n",
    "## Solution:\n",
    "\n",
    "* Write a function longestWord which takes input as a list of words word_list\n",
    "* If input word_list is None or not a list or have 0 word, raise an Exception\n",
    "* If input word_list has one word, return the word\n",
    "* Else reduce the list by comparing elements by length and taking th word which has longest length"
   ]
  },
  {
   "cell_type": "code",
   "execution_count": 8,
   "metadata": {},
   "outputs": [],
   "source": [
    "import functools\n",
    "\n",
    "# function longestWord which takes input as a list of words word_list\n",
    "# If word_list is None or not of type list or hve 0 word, raise a ValueError\n",
    "# Else return the word which has longest lenght\n",
    "def longestWord(word_list):\n",
    "    #If word_list is None or not of type list or hve 0 word, raise a ValueError\n",
    "    if word_list is None or isinstance(word_list, list) == False or len(word_list) == 0:\n",
    "        raise ValueError(\"Input word_list to function longestWord must be list of words of size at least 1\")\n",
    "    \n",
    "    #If input word_list has one word, return the word\n",
    "    # Else reduce the list and return the word with longest length\n",
    "    if len(word_list) == 1:\n",
    "        return word_list[0]    \n",
    "    else:\n",
    "        return functools.reduce(lambda x,y: x if len(x) >= len(y) else y, word_list)  \n"
   ]
  },
  {
   "cell_type": "code",
   "execution_count": 9,
   "metadata": {},
   "outputs": [
    {
     "name": "stdout",
     "output_type": "stream",
     "text": [
      "Longest word: Elephant\n"
     ]
    }
   ],
   "source": [
    "# Testcase1: Input a list of words with list size more than 1\n",
    "input_word_list = [\"hi\", \"Hello\", \"India\", \"Cat\", \"Elephant\", \"Tiger\"]\n",
    "longest_word = longestWord(input_word_list)\n",
    "print(\"Longest word: \" + longest_word)"
   ]
  },
  {
   "cell_type": "code",
   "execution_count": 10,
   "metadata": {},
   "outputs": [
    {
     "name": "stdout",
     "output_type": "stream",
     "text": [
      "Longest word: Tiger\n"
     ]
    }
   ],
   "source": [
    "# Testcase2: Input a list of words with list size equal to 1\n",
    "input_word_list = [\"Tiger\"]\n",
    "longest_word = longestWord(input_word_list)\n",
    "print(\"Longest word: \" + longest_word)"
   ]
  },
  {
   "cell_type": "code",
   "execution_count": 12,
   "metadata": {},
   "outputs": [
    {
     "ename": "ValueError",
     "evalue": "Input word_list to function longestWord must be list of words of size at least 1",
     "output_type": "error",
     "traceback": [
      "\u001b[1;31m---------------------------------------------------------------------------\u001b[0m",
      "\u001b[1;31mValueError\u001b[0m                                Traceback (most recent call last)",
      "\u001b[1;32m<ipython-input-12-8797b8aade8c>\u001b[0m in \u001b[0;36m<module>\u001b[1;34m()\u001b[0m\n\u001b[0;32m      1\u001b[0m \u001b[1;31m# Testcase3: Input a list of words with empty list, it should raise an Exception of type ValueError\u001b[0m\u001b[1;33m\u001b[0m\u001b[1;33m\u001b[0m\u001b[0m\n\u001b[0;32m      2\u001b[0m \u001b[0minput_word_list\u001b[0m \u001b[1;33m=\u001b[0m \u001b[1;33m[\u001b[0m\u001b[1;33m]\u001b[0m\u001b[1;33m\u001b[0m\u001b[0m\n\u001b[1;32m----> 3\u001b[1;33m \u001b[0mlongest_word\u001b[0m \u001b[1;33m=\u001b[0m \u001b[0mlongestWord\u001b[0m\u001b[1;33m(\u001b[0m\u001b[0minput_word_list\u001b[0m\u001b[1;33m)\u001b[0m\u001b[1;33m\u001b[0m\u001b[0m\n\u001b[0m\u001b[0;32m      4\u001b[0m \u001b[0mprint\u001b[0m\u001b[1;33m(\u001b[0m\u001b[1;34m\"Longest word: \"\u001b[0m \u001b[1;33m+\u001b[0m \u001b[0mlongest_word\u001b[0m\u001b[1;33m)\u001b[0m\u001b[1;33m\u001b[0m\u001b[0m\n",
      "\u001b[1;32m<ipython-input-8-a25b21e4c0ac>\u001b[0m in \u001b[0;36mlongestWord\u001b[1;34m(word_list)\u001b[0m\n\u001b[0;32m      7\u001b[0m     \u001b[1;31m#If word_list is None or not of type list or hve 0 word, raise a ValueError\u001b[0m\u001b[1;33m\u001b[0m\u001b[1;33m\u001b[0m\u001b[0m\n\u001b[0;32m      8\u001b[0m     \u001b[1;32mif\u001b[0m \u001b[0mword_list\u001b[0m \u001b[1;32mis\u001b[0m \u001b[1;32mNone\u001b[0m \u001b[1;32mor\u001b[0m \u001b[0misinstance\u001b[0m\u001b[1;33m(\u001b[0m\u001b[0mword_list\u001b[0m\u001b[1;33m,\u001b[0m \u001b[0mlist\u001b[0m\u001b[1;33m)\u001b[0m \u001b[1;33m==\u001b[0m \u001b[1;32mFalse\u001b[0m \u001b[1;32mor\u001b[0m \u001b[0mlen\u001b[0m\u001b[1;33m(\u001b[0m\u001b[0mword_list\u001b[0m\u001b[1;33m)\u001b[0m \u001b[1;33m==\u001b[0m \u001b[1;36m0\u001b[0m\u001b[1;33m:\u001b[0m\u001b[1;33m\u001b[0m\u001b[0m\n\u001b[1;32m----> 9\u001b[1;33m         \u001b[1;32mraise\u001b[0m \u001b[0mValueError\u001b[0m\u001b[1;33m(\u001b[0m\u001b[1;34m\"Input word_list to function longestWord must be list of words of size at least 1\"\u001b[0m\u001b[1;33m)\u001b[0m\u001b[1;33m\u001b[0m\u001b[0m\n\u001b[0m\u001b[0;32m     10\u001b[0m \u001b[1;33m\u001b[0m\u001b[0m\n\u001b[0;32m     11\u001b[0m     \u001b[1;31m#If input word_list has one word, return the word\u001b[0m\u001b[1;33m\u001b[0m\u001b[1;33m\u001b[0m\u001b[0m\n",
      "\u001b[1;31mValueError\u001b[0m: Input word_list to function longestWord must be list of words of size at least 1"
     ]
    }
   ],
   "source": [
    "# Testcase3: Input a list of words with empty list, it should raise an Exception of type ValueError\n",
    "input_word_list = []\n",
    "longest_word = longestWord(input_word_list)\n",
    "print(\"Longest word: \" + longest_word)"
   ]
  },
  {
   "cell_type": "code",
   "execution_count": null,
   "metadata": {},
   "outputs": [],
   "source": []
  }
 ],
 "metadata": {
  "kernelspec": {
   "display_name": "Python 3",
   "language": "python",
   "name": "python3"
  },
  "language_info": {
   "codemirror_mode": {
    "name": "ipython",
    "version": 3
   },
   "file_extension": ".py",
   "mimetype": "text/x-python",
   "name": "python",
   "nbconvert_exporter": "python",
   "pygments_lexer": "ipython3",
   "version": "3.6.4"
  }
 },
 "nbformat": 4,
 "nbformat_minor": 2
}
